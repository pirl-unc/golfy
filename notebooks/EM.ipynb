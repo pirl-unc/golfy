{
 "cells": [
  {
   "cell_type": "code",
   "execution_count": 1,
   "id": "5dd98525",
   "metadata": {},
   "outputs": [],
   "source": [
    "from scipy.linalg import solve \n",
    "import numpy as np \n"
   ]
  },
  {
   "cell_type": "code",
   "execution_count": 2,
   "id": "57da15be",
   "metadata": {},
   "outputs": [],
   "source": [
    "n_pools = 96\n",
    "n_peptides = 200\n",
    "\n",
    "X = np.ones((n_pools, n_peptides))\n",
    "y = np.ones(n_pools)\n",
    "beta = np.ones(n_peptides)"
   ]
  },
  {
   "cell_type": "code",
   "execution_count": 3,
   "id": "c3e97fa6",
   "metadata": {},
   "outputs": [],
   "source": [
    "def f(X, y, beta):\n",
    "    return (X.T @ (y / (X @ beta))) * (beta / X.sum(0))"
   ]
  },
  {
   "cell_type": "code",
   "execution_count": 4,
   "id": "cef1505f",
   "metadata": {},
   "outputs": [],
   "source": [
    "f(X, y, beta).shape"
   ]
  },
  {
   "cell_type": "code",
   "execution_count": 5,
   "id": "0ed07b73",
   "metadata": {},
   "outputs": [],
   "source": [
    "((X.T @ y) / X.sum(0)).shape\n"
   ]
  },
  {
   "cell_type": "code",
   "execution_count": 2,
   "id": "efa7c7e9",
   "metadata": {},
   "outputs": [],
   "source": [
    "import golfy"
   ]
  },
  {
   "cell_type": "code",
   "execution_count": 3,
   "id": "5870e668",
   "metadata": {},
   "outputs": [],
   "source": [
    "import golfy.deconvolution"
   ]
  },
  {
   "cell_type": "code",
   "execution_count": null,
   "id": "043a22b4",
   "metadata": {},
   "outputs": [],
   "source": []
  },
  {
   "cell_type": "code",
   "execution_count": 4,
   "id": "9eab9c8e",
   "metadata": {},
   "outputs": [],
   "source": [
    "s = golfy.init()"
   ]
  },
  {
   "cell_type": "code",
   "execution_count": 5,
   "id": "e59e8785",
   "metadata": {},
   "outputs": [],
   "source": [
    "elispot_counts, hits = golfy.simulation.simulate_elispot_counts(s, num_hits=10)"
   ]
  },
  {
   "cell_type": "code",
   "execution_count": 6,
   "id": "41260be5",
   "metadata": {},
   "outputs": [],
   "source": [
    "s.assignments[2][20] = []; s.assignments[2][21] = []; s.assignments[2][22] = []\n",
    "all_counts = []\n",
    "for _, d in elispot_counts.items():\n",
    "    for _, c in d.items():\n",
    "        all_counts.append(c)\n",
    "noise_floor = min(all_counts)\n",
    "elispot_counts[2][20] = noise_floor\n",
    "elispot_counts[2][21] = noise_floor\n",
    "elispot_counts[2][22] = noise_floor"
   ]
  },
  {
   "cell_type": "code",
   "execution_count": 7,
   "id": "fe7daf35",
   "metadata": {},
   "outputs": [
    {
     "data": {
      "text/plain": [
       "25"
      ]
     },
     "execution_count": 7,
     "metadata": {},
     "output_type": "execute_result"
    }
   ],
   "source": [
    "noise_floor"
   ]
  },
  {
   "cell_type": "code",
   "execution_count": 8,
   "id": "7078a6a0",
   "metadata": {},
   "outputs": [
    {
     "data": {
      "text/plain": [
       "{7, 8, 25, 30, 37, 39, 41, 43, 80, 98}"
      ]
     },
     "execution_count": 8,
     "metadata": {},
     "output_type": "execute_result"
    }
   ],
   "source": [
    "hits"
   ]
  },
  {
   "cell_type": "code",
   "execution_count": 9,
   "id": "ff61fc72",
   "metadata": {},
   "outputs": [],
   "source": [
    "em_result = golfy.deconvolution.deconvolve(s, elispot_counts, method=\"em\", verbose=False)"
   ]
  },
  {
   "cell_type": "code",
   "execution_count": 10,
   "id": "84e41607",
   "metadata": {},
   "outputs": [
    {
     "data": {
      "text/plain": [
       "DeconvolutionResult(activity_per_peptide=array([1.54678427e-01, 4.97332647e+00, 4.83051697e+00, 1.84500412e+00,\n",
       "       7.01374465e+00, 1.45563899e-01, 2.65257325e+00, 3.32094037e+02,\n",
       "       2.73239590e+02, 1.94086780e+01, 1.36831788e+00, 1.05984055e+01,\n",
       "       8.82379272e+00, 1.06784693e+01, 1.38195099e-02, 5.90916448e+00,\n",
       "       2.28868858e+01, 1.56754102e-03, 4.26557204e-02, 2.98097342e+01,\n",
       "       9.41795443e+00, 1.82302755e+00, 1.79846465e-01, 5.63450979e+00,\n",
       "       1.68390317e-01, 1.02738369e+02, 1.16837206e+01, 7.63051806e+00,\n",
       "       3.26324784e+00, 2.24566983e+00, 1.30007018e+02, 2.31738994e-01,\n",
       "       2.17283867e+01, 4.11932576e-01, 1.12918304e+01, 4.39231694e-04,\n",
       "       1.22924512e+01, 2.24815843e+02, 7.09233988e+00, 4.33395441e+02,\n",
       "       2.78423902e+00, 8.09686114e+01, 8.50577433e+00, 3.67263710e+02,\n",
       "       2.27295673e+01, 1.45414116e+01, 2.02940425e+01, 1.54917926e+01,\n",
       "       8.10097518e+00, 2.06739315e+00, 1.40342887e+01, 1.47182082e+01,\n",
       "       1.16804402e-01, 2.22291597e-01, 1.35358020e+00, 8.14304283e+00,\n",
       "       1.80992470e+01, 1.61598069e+01, 3.59136672e+00, 7.14525546e-02,\n",
       "       2.58709441e+01, 7.30428898e+00, 4.92253751e+00, 4.49841411e-01,\n",
       "       9.95525087e-02, 8.16825515e+00, 1.94462537e+01, 3.06690635e+00,\n",
       "       3.44150000e+01, 4.23585788e+00, 2.56982360e+00, 3.32705865e-04,\n",
       "       9.04945163e+00, 1.46573011e+00, 3.74112513e+01, 1.99816032e-03,\n",
       "       8.38834977e+00, 1.47182188e+00, 2.70405235e+00, 1.81227261e+01,\n",
       "       1.43409096e+02, 1.11465444e-01, 1.33159137e+01, 4.62244141e+00,\n",
       "       8.61220388e+00, 6.67307935e-01, 6.62723132e-01, 3.76379874e-02,\n",
       "       3.64540764e-02, 6.07891433e+01, 5.83369544e+00, 7.05408010e+00,\n",
       "       2.29168721e-01, 3.54307693e-01, 2.40976923e-01, 1.39254613e+01,\n",
       "       3.17182599e+00, 1.71501188e+01, 2.99021651e+02, 1.55150464e-01]), prob_hit_per_peptide=array([0., 0., 0., 0., 0., 0., 0., 1., 1., 0., 0., 0., 0., 0., 0., 0., 0.,\n",
       "       0., 0., 0., 0., 0., 0., 0., 0., 1., 0., 0., 0., 0., 1., 0., 0., 0.,\n",
       "       0., 0., 0., 1., 0., 1., 0., 0., 0., 1., 0., 0., 0., 0., 0., 0., 0.,\n",
       "       0., 0., 0., 0., 0., 0., 0., 0., 0., 0., 0., 0., 0., 0., 0., 0., 0.,\n",
       "       0., 0., 0., 0., 0., 0., 0., 0., 0., 0., 0., 0., 1., 0., 0., 0., 0.,\n",
       "       0., 0., 0., 0., 0., 0., 0., 0., 0., 0., 0., 0., 0., 1., 0.]), high_confidence_hits=array([ 7,  8, 25, 30, 37, 39, 43, 80, 98]), background=24.506352151559494, cutoff=99.02540860623797)"
      ]
     },
     "execution_count": 10,
     "metadata": {},
     "output_type": "execute_result"
    }
   ],
   "source": [
    "em_result"
   ]
  },
  {
   "cell_type": "code",
   "execution_count": 15,
   "id": "23be938e",
   "metadata": {},
   "outputs": [],
   "source": [
    "em_result.high_confidence_hits"
   ]
  },
  {
   "cell_type": "code",
   "execution_count": 16,
   "id": "628e590b",
   "metadata": {},
   "outputs": [],
   "source": [
    "em_result.high_confidence_hits"
   ]
  },
  {
   "cell_type": "code",
   "execution_count": null,
   "id": "7ebd1aba",
   "metadata": {},
   "outputs": [],
   "source": []
  },
  {
   "cell_type": "code",
   "execution_count": 17,
   "id": "048cfbfa",
   "metadata": {},
   "outputs": [],
   "source": [
    "lasso_result = golfy.deconvolution.deconvolve(s, elispot_counts, method=\"lasso\", verbose=False)"
   ]
  },
  {
   "cell_type": "code",
   "execution_count": 24,
   "id": "991e2b17",
   "metadata": {},
   "outputs": [],
   "source": [
    "lasso_result"
   ]
  },
  {
   "cell_type": "code",
   "execution_count": 19,
   "id": "b0fbefce",
   "metadata": {},
   "outputs": [],
   "source": [
    "np.where(lasso_result.activity_per_peptide > 0)"
   ]
  },
  {
   "cell_type": "code",
   "execution_count": 20,
   "id": "ef826893",
   "metadata": {},
   "outputs": [],
   "source": [
    "result = golfy.deconvolution.deconvolve(s, elispot_counts, method=\"em\", verbose=False)"
   ]
  },
  {
   "cell_type": "code",
   "execution_count": 21,
   "id": "748f0439",
   "metadata": {},
   "outputs": [],
   "source": [
    "result.activity_per_peptide"
   ]
  },
  {
   "cell_type": "code",
   "execution_count": null,
   "id": "a430ae49",
   "metadata": {},
   "outputs": [],
   "source": []
  },
  {
   "cell_type": "code",
   "execution_count": 22,
   "id": "95cc7e3b",
   "metadata": {},
   "outputs": [],
   "source": [
    "with open(\"peptide-pools.csv\", \"w\") as f:\n",
    "    for r, d in s.assignments.items():\n",
    "        for pool, peptides in d.items():\n",
    "            print(r, pool)\n",
    "            f.write(\"%s\\n\" % \",\".join([\"%d\" % p for p in peptides]))"
   ]
  },
  {
   "cell_type": "code",
   "execution_count": 23,
   "id": "80bf8501",
   "metadata": {},
   "outputs": [],
   "source": [
    "with open(\"activity.csv\", \"w\") as f:\n",
    "    for r, d in elispot_counts.items():\n",
    "        for pool, c in d.items():\n",
    "            print(r, pool)\n",
    "            f.write(\"%d\\n\" % c)"
   ]
  },
  {
   "cell_type": "code",
   "execution_count": 37,
   "id": "6997edd5",
   "metadata": {},
   "outputs": [],
   "source": [
    "A = np.array([[1,2,3],[4,5,6]])"
   ]
  },
  {
   "cell_type": "code",
   "execution_count": 38,
   "id": "b99777a4",
   "metadata": {},
   "outputs": [
    {
     "data": {
      "text/plain": [
       "array([[1, 2, 3],\n",
       "       [4, 5, 6]])"
      ]
     },
     "execution_count": 38,
     "metadata": {},
     "output_type": "execute_result"
    }
   ],
   "source": [
    "A"
   ]
  },
  {
   "cell_type": "code",
   "execution_count": 39,
   "id": "0bb310b3",
   "metadata": {},
   "outputs": [
    {
     "data": {
      "text/plain": [
       "array([ 6, 15])"
      ]
     },
     "execution_count": 39,
     "metadata": {},
     "output_type": "execute_result"
    }
   ],
   "source": [
    "A.sum(1)"
   ]
  },
  {
   "cell_type": "code",
   "execution_count": null,
   "id": "778ec141",
   "metadata": {},
   "outputs": [],
   "source": []
  }
 ],
 "metadata": {
  "kernelspec": {
   "display_name": "Python 3 (ipykernel)",
   "language": "python",
   "name": "python3"
  },
  "language_info": {
   "codemirror_mode": {
    "name": "ipython",
    "version": 3
   },
   "file_extension": ".py",
   "mimetype": "text/x-python",
   "name": "python",
   "nbconvert_exporter": "python",
   "pygments_lexer": "ipython3",
   "version": "3.10.10"
  }
 },
 "nbformat": 4,
 "nbformat_minor": 5
}
