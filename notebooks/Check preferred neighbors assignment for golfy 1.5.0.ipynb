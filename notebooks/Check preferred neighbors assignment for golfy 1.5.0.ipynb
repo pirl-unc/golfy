{
 "cells": [
  {
   "cell_type": "code",
   "execution_count": 1,
   "id": "c2d4b90d",
   "metadata": {},
   "outputs": [
    {
     "data": {
      "text/plain": [
       "True"
      ]
     },
     "execution_count": 1,
     "metadata": {},
     "output_type": "execute_result"
    }
   ],
   "source": [
    "from golfy import init, is_valid, optimize\n",
    "preferred_neighbors = [(7,10), (12,17), (14,15), (15,17)]\n",
    "s = init(num_peptides=25,\n",
    "         peptides_per_pool=5,\n",
    "         num_replicates=3,\n",
    "         preferred_neighbors=preferred_neighbors)\n",
    "optimize(s)"
   ]
  },
  {
   "cell_type": "code",
   "execution_count": 2,
   "id": "6ac01852",
   "metadata": {},
   "outputs": [
    {
     "data": {
      "text/plain": [
       "{0: array([ 7, 10, 11, 16, 22]),\n",
       " 1: array([12, 14, 15, 17, 19]),\n",
       " 2: array([ 1,  5,  8, 20, 21]),\n",
       " 3: array([ 3,  4,  6,  9, 18]),\n",
       " 4: array([ 0,  2, 13, 23, 24])}"
      ]
     },
     "execution_count": 2,
     "metadata": {},
     "output_type": "execute_result"
    }
   ],
   "source": [
    "s.assignments[0]"
   ]
  },
  {
   "cell_type": "code",
   "execution_count": 3,
   "id": "a550ef21",
   "metadata": {},
   "outputs": [
    {
     "data": {
      "text/plain": [
       "'1.5.0'"
      ]
     },
     "execution_count": 3,
     "metadata": {},
     "output_type": "execute_result"
    }
   ],
   "source": [
    "import golfy\n",
    "golfy.__version__"
   ]
  },
  {
   "cell_type": "code",
   "execution_count": 4,
   "id": "57d1a9f1",
   "metadata": {},
   "outputs": [
    {
     "data": {
      "text/plain": [
       "{0: {0: array([ 7, 10, 11, 16, 22]),\n",
       "  1: array([12, 14, 15, 17, 19]),\n",
       "  2: array([ 1,  5,  8, 20, 21]),\n",
       "  3: array([ 3,  4,  6,  9, 18]),\n",
       "  4: array([ 0,  2, 13, 23, 24])},\n",
       " 1: {0: array([ 4,  5, 10, 13, 15]),\n",
       "  1: array([ 1,  2,  3,  7, 19]),\n",
       "  2: array([ 6, 12, 20, 22, 23]),\n",
       "  3: array([ 0,  9, 16, 17, 21]),\n",
       "  4: array([ 8, 11, 14, 18, 24])},\n",
       " 2: {0: array([10, 19,  0, 18]),\n",
       "  1: array([15, 20, 24,  3]),\n",
       "  2: array([ 2,  5, 16, 12]),\n",
       "  3: array([ 4, 23, 11, 21]),\n",
       "  4: array([ 8, 17,  6,  7, 13]),\n",
       "  5: array([ 1,  9, 14, 22])}}"
      ]
     },
     "execution_count": 4,
     "metadata": {},
     "output_type": "execute_result"
    }
   ],
   "source": [
    "s.assignments"
   ]
  },
  {
   "cell_type": "code",
   "execution_count": null,
   "id": "e12df1d1",
   "metadata": {},
   "outputs": [],
   "source": []
  }
 ],
 "metadata": {
  "kernelspec": {
   "display_name": "Python 3 (ipykernel)",
   "language": "python",
   "name": "python3"
  },
  "language_info": {
   "codemirror_mode": {
    "name": "ipython",
    "version": 3
   },
   "file_extension": ".py",
   "mimetype": "text/x-python",
   "name": "python",
   "nbconvert_exporter": "python",
   "pygments_lexer": "ipython3",
   "version": "3.10.10"
  }
 },
 "nbformat": 4,
 "nbformat_minor": 5
}
