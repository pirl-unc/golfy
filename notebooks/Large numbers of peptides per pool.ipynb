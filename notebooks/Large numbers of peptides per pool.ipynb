{
 "cells": [
  {
   "cell_type": "code",
   "execution_count": 1,
   "id": "d6f390de",
   "metadata": {},
   "outputs": [],
   "source": [
    "import golfy"
   ]
  },
  {
   "cell_type": "code",
   "execution_count": 6,
   "id": "db925359",
   "metadata": {},
   "outputs": [],
   "source": [
    "s = golfy.init(num_peptides = 120, peptides_per_pool=12, num_replicates=3)"
   ]
  },
  {
   "cell_type": "code",
   "execution_count": 7,
   "id": "411dd796",
   "metadata": {},
   "outputs": [
    {
     "data": {
      "text/plain": [
       "(False, 30)"
      ]
     },
     "execution_count": 7,
     "metadata": {},
     "output_type": "execute_result"
    }
   ],
   "source": [
    "golfy.is_valid(s), s.num_pools()"
   ]
  },
  {
   "cell_type": "code",
   "execution_count": 8,
   "id": "353a6df0",
   "metadata": {},
   "outputs": [
    {
     "name": "stdout",
     "output_type": "stream",
     "text": [
      "Initial solution has 386 violations\n",
      "1) 386 -> 336 violations (30 pools, 0.00s)\n",
      "2) 336 -> 316 violations (30 pools, 0.00s)\n",
      "3) 316 -> 290 violations (30 pools, 0.00s)\n",
      "4) 290 -> 272 violations (30 pools, 0.00s)\n",
      "5) 272 -> 268 violations (30 pools, 0.00s)\n",
      "6) 268 -> 258 violations (30 pools, 0.00s)\n",
      "7) 258 -> 222 violations (30 pools, 0.00s)\n",
      "8) 222 -> 206 violations (30 pools, 0.00s)\n",
      "9) 206 -> 202 violations (30 pools, 0.00s)\n",
      "10) 202 -> 190 violations (30 pools, 0.00s)\n",
      "11) 190 -> 188 violations (30 pools, 0.00s)\n",
      "12) 188 -> 176 violations (30 pools, 0.00s)\n",
      "13) 176 -> 176 violations (30 pools, 0.00s)\n",
      "14) 176 -> 170 violations (30 pools, 0.00s)\n",
      "15) 170 -> 168 violations (30 pools, 0.00s)\n",
      "16) 168 -> 154 violations (30 pools, 0.00s)\n",
      "17) 154 -> 154 violations (30 pools, 0.00s)\n",
      "18) 154 -> 152 violations (30 pools, 0.00s)\n",
      "19) 152 -> 144 violations (30 pools, 0.00s)\n",
      "20) 144 -> 144 violations (30 pools, 0.00s)\n",
      "21) 144 -> 144 violations (30 pools, 0.00s)\n",
      "22) 144 -> 144 violations (30 pools, 0.00s)\n",
      "-- adding pool 10 to replicate 2\n",
      "-- adding pool 10 to replicate 3\n",
      "23) 144 -> 140 violations (32 pools, 0.00s)\n",
      "24) 140 -> 136 violations (32 pools, 0.00s)\n",
      "25) 136 -> 134 violations (32 pools, 0.00s)\n",
      "26) 134 -> 134 violations (32 pools, 0.00s)\n",
      "27) 134 -> 134 violations (32 pools, 0.00s)\n",
      "28) 134 -> 132 violations (32 pools, 0.00s)\n",
      "29) 132 -> 132 violations (32 pools, 0.00s)\n",
      "30) 132 -> 128 violations (32 pools, 0.00s)\n",
      "31) 128 -> 126 violations (32 pools, 0.00s)\n",
      "32) 126 -> 122 violations (32 pools, 0.00s)\n",
      "33) 122 -> 114 violations (32 pools, 0.00s)\n",
      "34) 114 -> 112 violations (32 pools, 0.00s)\n",
      "35) 112 -> 114 violations (32 pools, 0.00s)\n",
      "36) 114 -> 112 violations (32 pools, 0.00s)\n",
      "37) 112 -> 110 violations (32 pools, 0.00s)\n",
      "38) 110 -> 106 violations (32 pools, 0.00s)\n",
      "39) 106 -> 108 violations (32 pools, 0.00s)\n",
      "40) 108 -> 110 violations (32 pools, 0.00s)\n",
      "41) 110 -> 108 violations (32 pools, 0.00s)\n",
      "42) 108 -> 108 violations (32 pools, 0.00s)\n",
      "43) 108 -> 108 violations (32 pools, 0.00s)\n",
      "44) 108 -> 112 violations (32 pools, 0.00s)\n",
      "-- adding pool 11 to replicate 2\n",
      "-- adding pool 11 to replicate 3\n",
      "45) 112 -> 106 violations (34 pools, 0.00s)\n",
      "46) 106 -> 104 violations (34 pools, 0.00s)\n",
      "47) 104 -> 96 violations (34 pools, 0.00s)\n",
      "48) 96 -> 96 violations (34 pools, 0.00s)\n",
      "49) 96 -> 88 violations (34 pools, 0.00s)\n",
      "50) 88 -> 90 violations (34 pools, 0.00s)\n",
      "51) 90 -> 88 violations (34 pools, 0.00s)\n",
      "52) 88 -> 92 violations (34 pools, 0.00s)\n",
      "53) 92 -> 92 violations (34 pools, 0.00s)\n",
      "54) 92 -> 88 violations (34 pools, 0.00s)\n",
      "55) 88 -> 82 violations (34 pools, 0.00s)\n",
      "56) 82 -> 76 violations (34 pools, 0.00s)\n",
      "57) 76 -> 70 violations (34 pools, 0.00s)\n",
      "58) 70 -> 66 violations (34 pools, 0.00s)\n",
      "59) 66 -> 66 violations (34 pools, 0.00s)\n",
      "60) 66 -> 64 violations (34 pools, 0.00s)\n",
      "61) 64 -> 62 violations (34 pools, 0.00s)\n",
      "62) 62 -> 62 violations (34 pools, 0.00s)\n",
      "63) 62 -> 62 violations (34 pools, 0.00s)\n",
      "64) 62 -> 54 violations (34 pools, 0.00s)\n",
      "65) 54 -> 50 violations (34 pools, 0.00s)\n",
      "66) 50 -> 44 violations (34 pools, 0.00s)\n",
      "67) 44 -> 46 violations (34 pools, 0.00s)\n",
      "68) 46 -> 48 violations (34 pools, 0.00s)\n",
      "69) 48 -> 40 violations (34 pools, 0.00s)\n",
      "70) 40 -> 38 violations (34 pools, 0.00s)\n",
      "71) 38 -> 32 violations (34 pools, 0.00s)\n",
      "72) 32 -> 32 violations (34 pools, 0.00s)\n",
      "73) 32 -> 34 violations (34 pools, 0.00s)\n",
      "74) 34 -> 30 violations (34 pools, 0.00s)\n",
      "75) 30 -> 30 violations (34 pools, 0.00s)\n",
      "76) 30 -> 30 violations (34 pools, 0.00s)\n",
      "77) 30 -> 30 violations (34 pools, 0.00s)\n",
      "-- adding pool 12 to replicate 3\n",
      "78) 30 -> 26 violations (35 pools, 0.00s)\n",
      "79) 26 -> 30 violations (35 pools, 0.00s)\n",
      "80) 30 -> 28 violations (35 pools, 0.00s)\n",
      "81) 28 -> 32 violations (35 pools, 0.00s)\n",
      "82) 32 -> 28 violations (35 pools, 0.00s)\n",
      "83) 28 -> 22 violations (35 pools, 0.00s)\n",
      "84) 22 -> 24 violations (35 pools, 0.00s)\n",
      "85) 24 -> 18 violations (35 pools, 0.00s)\n",
      "86) 18 -> 16 violations (35 pools, 0.00s)\n",
      "87) 16 -> 18 violations (35 pools, 0.00s)\n",
      "88) 18 -> 18 violations (35 pools, 0.00s)\n",
      "89) 18 -> 16 violations (35 pools, 0.00s)\n",
      "90) 16 -> 10 violations (35 pools, 0.00s)\n",
      "91) 10 -> 6 violations (35 pools, 0.00s)\n",
      "92) 6 -> 6 violations (35 pools, 0.00s)\n",
      "93) 6 -> 4 violations (35 pools, 0.00s)\n",
      "94) 4 -> 4 violations (35 pools, 0.00s)\n",
      "95) 4 -> 4 violations (35 pools, 0.00s)\n",
      "96) 4 -> 4 violations (35 pools, 0.00s)\n",
      "-- adding pool 13 to replicate 3\n",
      "97) 4 -> 2 violations (36 pools, 0.00s)\n",
      "98) 2 -> 0 violations (36 pools, 0.00s)\n",
      "Found valid solution after 98 swaps\n"
     ]
    },
    {
     "data": {
      "text/plain": [
       "True"
      ]
     },
     "execution_count": 8,
     "metadata": {},
     "output_type": "execute_result"
    }
   ],
   "source": [
    "golfy.optimize(s, verbose=True, max_iters=2000)"
   ]
  },
  {
   "cell_type": "code",
   "execution_count": 5,
   "id": "ac95f325",
   "metadata": {},
   "outputs": [
    {
     "name": "stdout",
     "output_type": "stream",
     "text": [
      "0 0.0 1.0 1.0 4.9950049950049955\n",
      "1 0.2 0.8 0.6400000000000001 6.242197253433208\n",
      "2 0.4 0.6 0.36 8.319467554076539\n",
      "3 0.6 0.4 0.16000000000000003 12.468827930174562\n",
      "4 0.8 0.19999999999999996 0.03999999999999998 24.87562189054727\n",
      "57\n"
     ]
    }
   ],
   "source": [
    "import math \n",
    "total = 0\n",
    "peptides_per_pool = 160\n",
    "n_peptides = 800\n",
    "n_replicates = 5\n",
    "for i in range(n_replicates):\n",
    "    ratio = i * peptides_per_pool / n_peptides\n",
    "    frac_available = 1 - ratio \n",
    "    if frac_available < 0:\n",
    "        raise ValueError(\"Impossible\")\n",
    "    pools_needed = (n_peptides / peptides_per_pool) / (0.001 + frac_available)\n",
    "    print(i, ratio, frac_available, frac_available **2,  pools_needed)\n",
    "    total += pools_needed\n",
    "print(math.ceil(total))"
   ]
  },
  {
   "cell_type": "code",
   "execution_count": 26,
   "id": "6bf8f266",
   "metadata": {},
   "outputs": [
    {
     "data": {
      "text/plain": [
       "2006"
      ]
     },
     "execution_count": 26,
     "metadata": {},
     "output_type": "execute_result"
    }
   ],
   "source": [
    "400 + 400 + 401 + 402 + 403"
   ]
  },
  {
   "cell_type": "code",
   "execution_count": null,
   "id": "0a383b81",
   "metadata": {},
   "outputs": [],
   "source": []
  }
 ],
 "metadata": {
  "kernelspec": {
   "display_name": "Python 3 (ipykernel)",
   "language": "python",
   "name": "python3"
  },
  "language_info": {
   "codemirror_mode": {
    "name": "ipython",
    "version": 3
   },
   "file_extension": ".py",
   "mimetype": "text/x-python",
   "name": "python",
   "nbconvert_exporter": "python",
   "pygments_lexer": "ipython3",
   "version": "3.10.10"
  }
 },
 "nbformat": 4,
 "nbformat_minor": 5
}
